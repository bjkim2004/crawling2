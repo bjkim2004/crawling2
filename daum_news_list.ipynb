{
 "cells": [
  {
   "cell_type": "code",
   "execution_count": 39,
   "metadata": {},
   "outputs": [],
   "source": [
    "import requests\n",
    "import lxml.html\n",
    "import pandas as pd\n",
    "import sqlite3\n",
    "from pandas.io import sql\n",
    "import os"
   ]
  },
  {
   "cell_type": "code",
   "execution_count": 40,
   "metadata": {
    "scrolled": true
   },
   "outputs": [],
   "source": [
    "import re\n",
    "import string\n",
    "\n",
    "# url = 'https://news.v.daum.net/v/20200505000102404'\n",
    "def get_detail(url):\n",
    "    body = []\n",
    "    punc = '[!\"#$%&\\'()*+,-./:;<=>?[\\]^_`{|}~“”·]'\n",
    "    response = requests.get(url)\n",
    "    root = lxml.html.fromstring(response.content)\n",
    "    for p in root.xpath('//*[@id=\"harmonyContainer\"]/section/p'):\n",
    "        if p.text: # 체크\n",
    "            body.append(re.sub(punc, '', p.text)) #변환 후 저장\n",
    "    full_body = ' '.join(body)\n",
    "    \n",
    "    return full_body\n",
    "\n",
    "# get_detail('https://news.v.daum.net/v/20200505000102404')"
   ]
  },
  {
   "cell_type": "code",
   "execution_count": 41,
   "metadata": {},
   "outputs": [],
   "source": [
    "def db_save(NEWS_LIST):\n",
    "    with sqlite3.connect(os.path.join('.','sqliteDB')) as con: # sqlite DB 파일이 존재하지 않는 경우 파일생성\n",
    "        try:\n",
    "            NEWS_LIST.to_sql(name = 'NEWS_LIST', con = con, index = False, if_exists='append') \n",
    "            #if_exists : {'fail', 'replace', 'append'} default : fail\n",
    "        except Exception as e:\n",
    "            print(str(e))\n",
    "        print(len(NEWS_LIST), '건 저장완료..')"
   ]
  },
  {
   "cell_type": "code",
   "execution_count": 42,
   "metadata": {},
   "outputs": [],
   "source": [
    "def db_delete():\n",
    "    with sqlite3.connect(os.path.join('.','sqliteDB')) as con: # sqlite DB 파일이 존재하지 않는 경우 파일생성\n",
    "        try:\n",
    "            cur = con.cursor()\n",
    "            sql = 'DELETE FROM NEWS_LIST'\n",
    "            cur.execute(sql)\n",
    "        except Exception as e:\n",
    "            print(str(e)) "
   ]
  },
  {
   "cell_type": "code",
   "execution_count": 43,
   "metadata": {},
   "outputs": [],
   "source": [
    "def db_select():\n",
    "    with sqlite3.connect(os.path.join('.','sqliteDB')) as con: # sqlite DB 파일이 존재하지 않는 경우 파일생성\n",
    "        try:\n",
    "            query = 'SELECT * FROM NEWS_LIST'\n",
    "            NEWS_LIST = pd.read_sql(query, con = con)\n",
    "        except Exception as e:\n",
    "            print(str(e)) \n",
    "        return NEWS_LIST   \n"
   ]
  },
  {
   "cell_type": "code",
   "execution_count": 44,
   "metadata": {
    "scrolled": true
   },
   "outputs": [
    {
     "name": "stdout",
     "output_type": "stream",
     "text": [
      "https://v.daum.net/v/20200505193817247 [포스트 코로나] 어제와 달라진 韓, 국제사회 '뉴노멀'된다\n",
      "https://v.daum.net/v/20200505190832982 LGU+, 상용망서 '5G 단독모드' 테스트 마쳐\n",
      "https://v.daum.net/v/20200505190517969 타다금지법 헌재로 간다 \"행복추구권·평등권 침해\"\n",
      "https://v.daum.net/v/20200505184607746 엘지 벨벳폰, \"2년뒤 반납조건 반값\" 소비자 묶을까\n",
      "https://v.daum.net/v/20200505184606744 LG유플러스, 서울서 '5G 단독모드' 테스트 완료\n",
      "https://v.daum.net/v/20200505184603743 \"초유의 온라인개학 가능했던 건 클라우드 덕분이죠\"\n",
      "https://v.daum.net/v/20200505183602568 코로나 사태로 확 뜬 K바이오..해외진출지원사업 대거 선정\n",
      "https://v.daum.net/v/20200505183601566 [IR52 장영실상] 현대차 / 카파 1.0 T-GDI FFV 엔진\n",
      "https://v.daum.net/v/20200505183306530 \"이 노래 추천해요\"..음악플랫폼, AI 기술전쟁\n",
      "https://v.daum.net/v/20200505183305528 LG유플, 20배 빠른 '5G 단독모드' 서울에서 서비스 테스트 마쳤다\n",
      "https://v.daum.net/v/20200505183301524 게임 최강국 대한민국, 낯뜨거운 '유저'의식\n",
      "https://v.daum.net/v/20200505183300521 \"2년 뒤 반납하세요\" LG 벨벳 40만원대\n",
      "https://v.daum.net/v/20200505181416222 논란에도 국회 넘은 타다금지법, 헌법재판소로 간다\n",
      "https://v.daum.net/v/20200505181218189 바닷물 담아두면 식수 되는 물병\n",
      "https://v.daum.net/v/20200505181216188 플라즈마 붕괴 전 탐지..핵융합에너지 상용화 앞당긴다\n"
     ]
    }
   ],
   "source": [
    "response = requests.get('http://news.daum.net/breakingnews/digital?page=3&regDate=20200505')\n",
    "root = lxml.html.fromstring(response.content)\n",
    "for li in root.xpath('//*[@id=\"mArticle\"]/div[3]/ul/li'):\n",
    "    a = li.xpath('div/strong/a')[0]\n",
    "    url = a.get('href')\n",
    "    print(url, a.text)"
   ]
  },
  {
   "cell_type": "code",
   "execution_count": 45,
   "metadata": {},
   "outputs": [
    {
     "name": "stdout",
     "output_type": "stream",
     "text": [
      "15 건 저장완료..\n",
      "4 건 저장완료..\n"
     ]
    }
   ],
   "source": [
    "page = 23\n",
    "max_page = 0\n",
    "dt = '20200505'\n",
    "while(True):\n",
    "    df_list = []\n",
    "    response = requests.get('http://news.daum.net/breakingnews/digital?page={}&regDate={}'\\\n",
    "                            .format(page, dt))\n",
    "    root = lxml.html.fromstring(response.content)\n",
    "    for li in root.xpath('//*[@id=\"mArticle\"]/div[3]/ul/li'):\n",
    "        a = li.xpath('div/strong/a')[0]\n",
    "        url = a.get('href')\n",
    "        df = pd.DataFrame({'URL' : [url],'TITLE':[a.text],'ARTICLE' : [get_detail(url)]})\n",
    "        df_list.append(df)   \n",
    "        \n",
    "    if df_list:   \n",
    "        df_10 = pd.concat(df_list)\n",
    "        db_save(df_10)\n",
    "\n",
    "    for a in root.xpath('//*[@id=\"mArticle\"]/div[3]/div/span/a'):\n",
    "        try:\n",
    "            num = int(a.text)\n",
    "            if max_page < num:\n",
    "                max_page = num       \n",
    "        except:\n",
    "            pass\n",
    "\n",
    "    span = root.xpath('//*[@id=\"mArticle\"]/div[3]/div/span/a[@class=\"btn_page btn_next\"]')\n",
    "\n",
    "    if (len(span) <= 0) & (page > max_page):\n",
    "        break\n",
    "    else:\n",
    "        page = page + 1\n"
   ]
  },
  {
   "cell_type": "code",
   "execution_count": 46,
   "metadata": {},
   "outputs": [],
   "source": [
    "# db_delete()"
   ]
  },
  {
   "cell_type": "code",
   "execution_count": 47,
   "metadata": {},
   "outputs": [
    {
     "name": "stdout",
     "output_type": "stream",
     "text": [
      "                                       URL  \\\n",
      "0   https://v.daum.net/v/20200505070102078   \n",
      "1   https://v.daum.net/v/20200505070101077   \n",
      "2   https://v.daum.net/v/20200505070018044   \n",
      "3   https://v.daum.net/v/20200505070011035   \n",
      "4   https://v.daum.net/v/20200505064502912   \n",
      "5   https://v.daum.net/v/20200505063300861   \n",
      "6   https://v.daum.net/v/20200505063007847   \n",
      "7   https://v.daum.net/v/20200505061050695   \n",
      "8   https://v.daum.net/v/20200505060303608   \n",
      "9   https://v.daum.net/v/20200505060026509   \n",
      "10  https://v.daum.net/v/20200505060021501   \n",
      "11  https://v.daum.net/v/20200505060019497   \n",
      "12  https://v.daum.net/v/20200505060018493   \n",
      "13  https://v.daum.net/v/20200505060015489   \n",
      "14  https://v.daum.net/v/20200505050005064   \n",
      "15  https://v.daum.net/v/20200505030230453   \n",
      "16  https://v.daum.net/v/20200505030131395   \n",
      "17  https://v.daum.net/v/20200505000136415   \n",
      "18  https://v.daum.net/v/20200505000102404   \n",
      "\n",
      "                                      TITLE  \\\n",
      "0    '공인인증서'로 재난지원금 확인, 경기도는 전화 한 통이면 되는데..   \n",
      "1      \"언제까지 유튜브만?..집콕중인 우리 아이, 이 서비스 어때요?\"   \n",
      "2                   늘어난 집콕족, 3월 무선통신 트래픽 급증   \n",
      "3             SKB-넷플릭스 '고래싸움'.. 소비자에 불똥 튈까?   \n",
      "4               애플워치 출시 5주년, 스마트워치 어디까지 왔나?   \n",
      "5         '코로나 뉴스 빼고 사용료 안내고'..IT공룡들의 한국 홀대   \n",
      "6      \"랜선 응원에 랜선 팬미팅\"..코로나19에 '덕질'도 언택트 시대   \n",
      "7               \"카카오톡 성공 비결요? 실패해도 버티면 됩니다\"   \n",
      "8    코로나19 사태로 본 공공의 알권리와 개인 프라이버시의 충돌, 그 후   \n",
      "9             무관중 프로야구 개막..\"친구와 대화하며 경기 본다\"   \n",
      "10              프로야구 드디어 개막..야구게임도 이벤트 '펑펑'   \n",
      "11                     코로나19에 보안업계도 사회공헌 동참   \n",
      "12                     5월, 무료·할인 VOD·웹툰 즐긴다   \n",
      "13  무관중 프로야구 '랜선응원'..카카오 '슬기로운 야구생활' 캠페인 진행   \n",
      "14    오늘은 어린이날..IPTV·케이블TV서 키즈 콘텐츠 '무료· 할인'   \n",
      "15                 집콕족 늘면서 데이터 소비-5G 가입 '쑥'   \n",
      "16                      국립중앙과학관, 6일부터 부분 개관   \n",
      "17              \"반갑다\" 다시 돌아온 프로야구에 게임세상도 들썩   \n",
      "18         왓챠플레이-LG 스마트TV 리모컨 연동..OTT 접점 확대   \n",
      "\n",
      "                                              ARTICLE  \n",
      "0   경기도는 신용카드 ARS 인증으로도 되던데 왜 정부 재난지원금은 공인인증서가 있어야...  \n",
      "1   서울뉴스1 송화연 기자  처음엔 아이들과 유튜브로 춤도 추고 운동도 하며 지냈는데 ...  \n",
      "2   아시아경제 조슬기나 기자 신종 코로나바이러스감염증코로나19 여파로 이른바 집콕 족이...  \n",
      "3   통신망 이용을 두고 넷플릭스와 SK브로드밴드가 맞붙었다 국내 콘텐츠공급자CP처럼 정...  \n",
      "4   서울뉴스1 이창규 기자  애플이 2014년 9월 애플워치를 공개 이듬해 4월 출시하...  \n",
      "5   ◇ 넷플릭스 망 사용료 못 낸다 소송 vs 네이버카카오는 매년 수백억 사용료 내 글...  \n",
      "6   서울뉴스1 송화연 기자  신종 코로나바이러스 감염증코로나19 여파로 사회적 거리두기...  \n",
      "7   카카오톡을 만들기 전 3년은 실패의 연속이었습니다 인터넷에서 모바일로 플랫폼이 바뀌...  \n",
      "8   블록체인 알파오메가48 무조건적인 프라이버시 보호는 과연 옳은 것인가 ③ 지난 칼럼...  \n",
      "9   아이뉴스24 송혜리 기자 신종 코로나바이러스 감염증코로나19 여파에 사상 초유 무관...  \n",
      "10  아이뉴스24 김나리 기자 신종 코로나바이러스 감염증코로나19 여파로 연기된 2020...  \n",
      "11  아이뉴스24 최은정 기자 신종 코로나바이러스 감염증코로나19으로 전 세계가 몸살을 ...  \n",
      "12  아이뉴스24 민혜정 기자 온라인 동영상 서비스OTT 웹툰 플랫폼이 5월 가정의 달을...  \n",
      "13  올해 한국 프로야구는 코로나19 사태로 인해 5일부터 무관중으로 시즌을 시작한다 프...  \n",
      "14  통신 3사가 운영하는 IPTV는 어린이날을 맞아 다양한 키즈 콘텐츠를 제공한다 SK...  \n",
      "15  신종 코로나바이러스 감염증코로나19 확산 여파로 ‘집콕’족이 늘어나면서 3월 무선 ...  \n",
      "16  국립중앙과학관은 생활방역체계 전환에 따라 6일부터 부분 개관한다고 4일 밝혔다 거리...  \n",
      "17  더팩트  최승진 기자 게임세상이 프로야구 개막으로 또다시 들썩이고 있다 5일 어린이...  \n",
      "18  LG전자 스마트TV 리모컨 클릭 한 번에 왓챠플레이가 연결된다 왓챠와 LG전자는 L...  \n"
     ]
    }
   ],
   "source": [
    "print(db_select())"
   ]
  },
  {
   "cell_type": "code",
   "execution_count": null,
   "metadata": {},
   "outputs": [],
   "source": []
  }
 ],
 "metadata": {
  "kernelspec": {
   "display_name": "Python 3",
   "language": "python",
   "name": "python3"
  },
  "language_info": {
   "codemirror_mode": {
    "name": "ipython",
    "version": 3
   },
   "file_extension": ".py",
   "mimetype": "text/x-python",
   "name": "python",
   "nbconvert_exporter": "python",
   "pygments_lexer": "ipython3",
   "version": "3.7.6"
  }
 },
 "nbformat": 4,
 "nbformat_minor": 4
}
